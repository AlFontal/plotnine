{
 "cells": [
  {
   "cell_type": "code",
   "execution_count": null,
   "metadata": {},
   "outputs": [],
   "source": [
    "from plotnine import *\n",
    "from plotnine.data import *\n",
    "import pandas as pd\n",
    "import numpy as np\n",
    "%matplotlib inline\n",
    "\n",
    "# We use theme_void as the base theme so that the modifications\n",
    "# we make in the code are transparent in the output, and small\n",
    "# dpi so that the plots for the examples are not too big\n",
    "theme_set(theme_void() + theme(dpi=72))"
   ]
  },
  {
   "cell_type": "code",
   "execution_count": null,
   "metadata": {},
   "outputs": [],
   "source": [
    "mtcars.head()"
   ]
  },
  {
   "cell_type": "markdown",
   "metadata": {},
   "source": [
    "The base plots we will use for the demonstation and some colors.\n"
   ]
  },
  {
   "cell_type": "code",
   "execution_count": null,
   "metadata": {},
   "outputs": [],
   "source": [
    "p1 = (ggplot(mtcars, aes('wt', 'mpg', color='factor(cyl)'))\n",
    "      + geom_point()\n",
    "      + labs(title='mpg vs wt')\n",
    "     )\n",
    "\n",
    "p2 = p1 + facet_grid('gear ~ am')\n",
    "\n",
    "theme_set(theme_void() + theme(dpi=72))\n",
    "\n",
    "black = '#222222'\n",
    "gray = '#666666'\n",
    "red = '#FF3333'\n",
    "green = '#66CC00'\n",
    "blue = '#3333FF'\n",
    "purple = '#9933FF'\n",
    "orange = '#FF8000'\n",
    "yellow = '#FFFF33'"
   ]
  },
  {
   "cell_type": "markdown",
   "metadata": {},
   "source": [
    "What the plots look like unmodified (unthemed)."
   ]
  },
  {
   "cell_type": "code",
   "execution_count": null,
   "metadata": {},
   "outputs": [],
   "source": [
    "p1"
   ]
  },
  {
   "cell_type": "code",
   "execution_count": null,
   "metadata": {},
   "outputs": [],
   "source": [
    "p2"
   ]
  },
  {
   "cell_type": "markdown",
   "metadata": {},
   "source": [
    "There are 3 main top level theming elements:\n",
    "\n",
    "1. `text` - controls all the text elements in the figure.\n",
    "2. `rect` - controls all the rectangles in the figure.\n",
    "3. `line` - controls all the lines in the figure.\n",
    "\n",
    "Note that none of the `themeables` control/modify the plotted data. e.g You cannot\n",
    "use `text` to change the appearance of objects plotted with `geom_text`."
   ]
  },
  {
   "cell_type": "markdown",
   "metadata": {},
   "source": [
    "### text"
   ]
  },
  {
   "cell_type": "code",
   "execution_count": null,
   "metadata": {},
   "outputs": [],
   "source": [
    "p1 + theme(\n",
    "    text=element_text(color=purple)\n",
    ")"
   ]
  },
  {
   "cell_type": "markdown",
   "metadata": {},
   "source": [
    "### rect"
   ]
  },
  {
   "cell_type": "code",
   "execution_count": null,
   "metadata": {},
   "outputs": [],
   "source": [
    "p1 + theme(\n",
    "    rect=element_rect(color=black, size=3, fill='#EEBB0050')\n",
    ") "
   ]
  },
  {
   "cell_type": "markdown",
   "metadata": {},
   "source": [
    "### line"
   ]
  },
  {
   "cell_type": "code",
   "execution_count": null,
   "metadata": {},
   "outputs": [],
   "source": [
    "p1 + theme(\n",
    "    line=element_line(color=black)\n",
    ")"
   ]
  },
  {
   "cell_type": "markdown",
   "metadata": {},
   "source": [
    "## Theming specific items"
   ]
  },
  {
   "cell_type": "markdown",
   "metadata": {},
   "source": [
    "### axis_line and axis_text"
   ]
  },
  {
   "cell_type": "code",
   "execution_count": null,
   "metadata": {},
   "outputs": [],
   "source": [
    "p1 + theme(\n",
    "    axis_line=element_line(size=2),\n",
    "    axis_line_x=element_line(color=red),\n",
    "    axis_line_y=element_line(color=blue),\n",
    "    \n",
    "    axis_text=element_text(margin={'t': 5, 'r': 5}),\n",
    "    axis_text_x=element_text(color=black),\n",
    "    axis_text_y=element_text(color=purple)\n",
    ")"
   ]
  },
  {
   "cell_type": "code",
   "execution_count": null,
   "metadata": {},
   "outputs": [],
   "source": [
    "p1 + theme(\n",
    "    axis_line=element_line(size=.7, color=gray),\n",
    "    \n",
    "    # We are focusing on the ticks, make them long\n",
    "    axis_ticks_length=20,\n",
    "    axis_ticks_length_minor=10,\n",
    "    axis_ticks_length_major=20,\n",
    "    \n",
    "    axis_ticks=element_line(size=2),\n",
    "    \n",
    "    axis_ticks_major=element_line(color=purple),\n",
    "    axis_ticks_major_x=element_line(size=4),        # override size=2\n",
    "    axis_ticks_major_y=element_line(color=yellow),  # override color=purple\n",
    "    \n",
    "    axis_ticks_minor=element_line(color=red),\n",
    "    axis_ticks_minor_x=element_line(),              # do not override anything\n",
    "    axis_ticks_minor_y=element_line(color=gray),    # override color=red\n",
    "\n",
    ")"
   ]
  },
  {
   "cell_type": "markdown",
   "metadata": {},
   "source": [
    "### axis_title and axis_ticks_pad"
   ]
  },
  {
   "cell_type": "code",
   "execution_count": null,
   "metadata": {},
   "outputs": [],
   "source": [
    "p1 + theme(\n",
    "    axis_line=element_line(size=.7, color=gray),\n",
    "    axis_ticks=element_line(),\n",
    "    \n",
    "    axis_title=element_text(),\n",
    "    axis_title_x=element_text(color=blue),\n",
    "    axis_title_y=element_text(color=red),\n",
    "    \n",
    "    # The gap between the title and the ticks\n",
    "    axis_ticks_pad=20,\n",
    "    axis_ticks_pad_major=20,\n",
    "    axis_ticks_pad_minor=20\n",
    ")"
   ]
  },
  {
   "cell_type": "markdown",
   "metadata": {},
   "source": [
    "### axis_ticks_direction"
   ]
  },
  {
   "cell_type": "code",
   "execution_count": null,
   "metadata": {},
   "outputs": [],
   "source": [
    "p1 + theme(\n",
    "    axis_line=element_line(size=.7, color=gray),\n",
    "    axis_ticks=element_line(),\n",
    "    \n",
    "    axis_ticks_direction='in',\n",
    "    axis_ticks_direction_x='in',\n",
    "    axis_ticks_direction_y='out'\n",
    ")"
   ]
  },
  {
   "cell_type": "markdown",
   "metadata": {},
   "source": [
    "### Legend_box\n",
    "\n",
    "Not all themeables that affect the legend box are demonstrated"
   ]
  },
  {
   "cell_type": "code",
   "execution_count": null,
   "metadata": {},
   "outputs": [],
   "source": [
    "(p1 + aes(fill='drat')\n",
    " + theme(\n",
    "    legend_position='left',\n",
    "    legend_direction='horizontal', # affected by the ncol=2\n",
    "    legend_title_align='center',\n",
    "    legend_box_margin=5,\n",
    "    legend_background=element_rect(color=purple, size=2, fill='white'),\n",
    "     \n",
    "    legend_box='vertical',\n",
    "     \n",
    "    legend_key=element_rect(fill=gray, alpha=.3),\n",
    "    legend_title=element_text(color=orange),\n",
    "    legend_text=element_text(weight='bold'),\n",
    "    \n",
    "    legend_key_size=30,            # overridden\n",
    "    legend_key_width=30,\n",
    "    legend_key_height=15,\n",
    "\n",
    "    legend_entry_spacing=10,      # overridden\n",
    "    legend_entry_spacing_x=15,\n",
    "    legend_entry_spacing_y=5) \n",
    " \n",
    " # so we can see legend_entry_spacing in action\n",
    " + guides(color=guide_legend(ncol=2))\n",
    ")"
   ]
  },
  {
   "cell_type": "markdown",
   "metadata": {},
   "source": [
    "### plot_background, panel_background and panel_border"
   ]
  },
  {
   "cell_type": "code",
   "execution_count": null,
   "metadata": {},
   "outputs": [],
   "source": [
    "p2 + theme(\n",
    "    plot_background=element_rect(fill='gray', alpha=.3),\n",
    "    panel_background=element_rect(fill=purple, alpha=.2),\n",
    "    panel_border=element_rect(color=red, size=1),\n",
    "    panel_spacing=.25,\n",
    "    #panel_spacing_x=.05,\n",
    "    #panel_spacing_y=.25\n",
    ")"
   ]
  },
  {
   "cell_type": "markdown",
   "metadata": {},
   "source": [
    "### panel_grid"
   ]
  },
  {
   "cell_type": "code",
   "execution_count": null,
   "metadata": {},
   "outputs": [],
   "source": [
    "p1 + theme(\n",
    "    panel_grid=element_line(color=purple),\n",
    "    \n",
    "    panel_grid_major=element_line(size=1.4, alpha=1),\n",
    "    panel_grid_major_x=element_line(linetype='dashed'),\n",
    "    panel_grid_major_y=element_line(linetype='dashdot'),\n",
    "    \n",
    "    panel_grid_minor=element_line(alpha=.25),\n",
    "    panel_grid_minor_x=element_line(color=red),\n",
    "    panel_grid_minor_y=element_line(color=green),\n",
    "    \n",
    "    panel_ontop=False  # puts the points behind the grid\n",
    " )"
   ]
  },
  {
   "cell_type": "markdown",
   "metadata": {},
   "source": [
    "### strip_background, strip_margin and strip_text"
   ]
  },
  {
   "cell_type": "code",
   "execution_count": null,
   "metadata": {},
   "outputs": [],
   "source": [
    "p2 + theme(\n",
    "    panel_spacing=.25,\n",
    "    \n",
    "    strip_background=element_rect(color=purple, fill=orange, size=1.4, alpha=.95),\n",
    "    strip_background_x=element_rect(x=1/6, width=2/3), # you can get really crazy\n",
    "    strip_background_y=element_rect(),\n",
    "    \n",
    "    strip_margin=0,\n",
    "    strip_margin_x=0.2,\n",
    "    strip_margin_y=0.2,\n",
    "    \n",
    "    strip_text=element_text(weight='bold'),\n",
    "    strip_text_x=element_text(color=red),\n",
    "    strip_text_y=element_text(color=blue)\n",
    " )"
   ]
  },
  {
   "cell_type": "markdown",
   "metadata": {},
   "source": [
    "### aspect_ratio and figure_size\n",
    "\n",
    "The `aspect_ratio` takes precedence over the `figure_size`, and it modifies\n",
    "the height. The effective width and height are:\n",
    "\n",
    "```python\n",
    "width = figure_size[0]\n",
    "height = figure_size[0] * aspect_ratio\n",
    "```"
   ]
  },
  {
   "cell_type": "code",
   "execution_count": null,
   "metadata": {},
   "outputs": [],
   "source": [
    "p1 + theme(\n",
    "    panel_background=element_rect(fill=gray, alpha=.2),\n",
    "    #dpi=120,\n",
    "    figure_size=(8, 6), # inches\n",
    "    aspect_ratio=1/3    # height:width\n",
    ")"
   ]
  }
 ],
 "metadata": {
  "kernelspec": {
   "display_name": "Python 3",
   "language": "python",
   "name": "python3"
  },
  "language_info": {
   "codemirror_mode": {
    "name": "ipython",
    "version": 3
   },
   "file_extension": ".py",
   "mimetype": "text/x-python",
   "name": "python",
   "nbconvert_exporter": "python",
   "pygments_lexer": "ipython3"
  }
 },
 "nbformat": 4,
 "nbformat_minor": 2
}
